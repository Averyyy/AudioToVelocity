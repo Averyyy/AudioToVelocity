{
 "cells": [
  {
   "cell_type": "code",
   "execution_count": 1,
   "metadata": {},
   "outputs": [
    {
     "name": "stdout",
     "output_type": "stream",
     "text": [
      "Found device: NVIDIA GeForce RTX 4090, n_gpu: 1\n"
     ]
    }
   ],
   "source": [
    "import torch\n",
    "\n",
    "# Confirm that the GPU is detected\n",
    "\n",
    "torch.cuda.is_available() \n",
    "\n",
    "# Get the GPU device name.\n",
    "device_name = torch.cuda.get_device_name()\n",
    "n_gpu = torch.cuda.device_count()\n",
    "print(f\"Found device: {device_name}, n_gpu: {n_gpu}\")\n",
    "device = torch.device(\"cuda\")"
   ]
  },
  {
   "cell_type": "code",
   "execution_count": 2,
   "metadata": {},
   "outputs": [
    {
     "name": "stdout",
     "output_type": "stream",
     "text": [
      "Requirement already satisfied: transformers in c:\\users\\avery\\.conda\\envs\\torch_env\\lib\\site-packages (4.20.1)\n",
      "Requirement already satisfied: requests in c:\\users\\avery\\.conda\\envs\\torch_env\\lib\\site-packages (from transformers) (2.29.0)\n",
      "Requirement already satisfied: huggingface-hub<1.0,>=0.1.0 in c:\\users\\avery\\.conda\\envs\\torch_env\\lib\\site-packages (from transformers) (0.14.0)\n",
      "Requirement already satisfied: packaging>=20.0 in c:\\users\\avery\\.conda\\envs\\torch_env\\lib\\site-packages (from transformers) (23.1)\n",
      "Requirement already satisfied: regex!=2019.12.17 in c:\\users\\avery\\.conda\\envs\\torch_env\\lib\\site-packages (from transformers) (2023.3.23)\n",
      "Requirement already satisfied: numpy>=1.17 in c:\\users\\avery\\.conda\\envs\\torch_env\\lib\\site-packages (from transformers) (1.23.5)\n",
      "Requirement already satisfied: tokenizers!=0.11.3,<0.13,>=0.11.1 in c:\\users\\avery\\.conda\\envs\\torch_env\\lib\\site-packages (from transformers) (0.12.1)\n",
      "Requirement already satisfied: tqdm>=4.27 in c:\\users\\avery\\.conda\\envs\\torch_env\\lib\\site-packages (from transformers) (4.65.0)\n",
      "Requirement already satisfied: filelock in c:\\users\\avery\\.conda\\envs\\torch_env\\lib\\site-packages (from transformers) (3.12.0)\n",
      "Requirement already satisfied: pyyaml>=5.1 in c:\\users\\avery\\.conda\\envs\\torch_env\\lib\\site-packages (from transformers) (6.0)\n",
      "Requirement already satisfied: typing-extensions>=3.7.4.3 in c:\\users\\avery\\.conda\\envs\\torch_env\\lib\\site-packages (from huggingface-hub<1.0,>=0.1.0->transformers) (4.4.0)\n",
      "Requirement already satisfied: fsspec in c:\\users\\avery\\.conda\\envs\\torch_env\\lib\\site-packages (from huggingface-hub<1.0,>=0.1.0->transformers) (2023.4.0)\n",
      "Requirement already satisfied: colorama in c:\\users\\avery\\.conda\\envs\\torch_env\\lib\\site-packages (from tqdm>=4.27->transformers) (0.4.6)\n",
      "Requirement already satisfied: idna<4,>=2.5 in c:\\users\\avery\\.conda\\envs\\torch_env\\lib\\site-packages (from requests->transformers) (3.4)\n",
      "Requirement already satisfied: certifi>=2017.4.17 in c:\\users\\avery\\.conda\\envs\\torch_env\\lib\\site-packages (from requests->transformers) (2023.5.7)\n",
      "Requirement already satisfied: urllib3<1.27,>=1.21.1 in c:\\users\\avery\\.conda\\envs\\torch_env\\lib\\site-packages (from requests->transformers) (1.26.15)\n",
      "Requirement already satisfied: charset-normalizer<4,>=2 in c:\\users\\avery\\.conda\\envs\\torch_env\\lib\\site-packages (from requests->transformers) (2.0.4)\n",
      "Collecting miditok\n",
      "  Downloading miditok-2.0.6-py3-none-any.whl (101 kB)\n",
      "     ------------------------------------ 101.1/101.1 kB 132.0 kB/s eta 0:00:00\n",
      "Collecting miditoolkit>=0.1.16\n",
      "  Downloading miditoolkit-0.1.16-py3-none-any.whl (20 kB)\n",
      "Requirement already satisfied: numpy<1.24,>=1.19 in c:\\users\\avery\\.conda\\envs\\torch_env\\lib\\site-packages (from miditok) (1.23.5)\n",
      "Requirement already satisfied: tqdm in c:\\users\\avery\\.conda\\envs\\torch_env\\lib\\site-packages (from miditok) (4.65.0)\n",
      "Collecting mido>=1.1.16\n",
      "  Downloading mido-1.2.10-py2.py3-none-any.whl (51 kB)\n",
      "     --------------------------------------- 51.1/51.1 kB 22.7 kB/s eta 0:00:00\n",
      "Requirement already satisfied: colorama in c:\\users\\avery\\.conda\\envs\\torch_env\\lib\\site-packages (from tqdm->miditok) (0.4.6)\n",
      "Installing collected packages: mido, miditoolkit, miditok\n",
      "Successfully installed miditok-2.0.6 miditoolkit-0.1.16 mido-1.2.10\n",
      "Collecting librosa\n",
      "  Downloading librosa-0.10.0.post2-py3-none-any.whl (253 kB)\n",
      "     ------------------------------------- 253.0/253.0 kB 19.4 kB/s eta 0:00:00\n",
      "Collecting pooch<1.7,>=1.0\n",
      "  Downloading pooch-1.6.0-py3-none-any.whl (56 kB)\n",
      "     ---------------------------------------- 56.3/56.3 kB 9.3 kB/s eta 0:00:00\n",
      "Requirement already satisfied: joblib>=0.14 in c:\\users\\avery\\.conda\\envs\\torch_env\\lib\\site-packages (from librosa) (1.2.0)\n",
      "Requirement already satisfied: typing-extensions>=4.1.1 in c:\\users\\avery\\.conda\\envs\\torch_env\\lib\\site-packages (from librosa) (4.4.0)\n",
      "Requirement already satisfied: scikit-learn>=0.20.0 in c:\\users\\avery\\.conda\\envs\\torch_env\\lib\\site-packages (from librosa) (1.2.2)\n",
      "Collecting soxr>=0.3.2\n",
      "  Downloading soxr-0.3.5-cp39-cp39-win_amd64.whl (184 kB)\n",
      "     ------------------------------------- 184.2/184.2 kB 13.3 kB/s eta 0:00:00\n",
      "Collecting lazy-loader>=0.1\n",
      "  Downloading lazy_loader-0.2-py3-none-any.whl (8.6 kB)\n",
      "Requirement already satisfied: numba>=0.51.0 in c:\\users\\avery\\.conda\\envs\\torch_env\\lib\\site-packages (from librosa) (0.57.0)\n",
      "Requirement already satisfied: decorator>=4.3.0 in c:\\users\\avery\\.conda\\envs\\torch_env\\lib\\site-packages (from librosa) (4.4.2)\n",
      "Requirement already satisfied: numpy!=1.22.0,!=1.22.1,!=1.22.2,>=1.20.3 in c:\\users\\avery\\.conda\\envs\\torch_env\\lib\\site-packages (from librosa) (1.23.5)\n",
      "Collecting audioread>=2.1.9\n",
      "  Downloading audioread-3.0.0.tar.gz (377 kB)\n",
      "     ------------------------------------- 377.0/377.0 kB 12.4 kB/s eta 0:00:00\n",
      "  Preparing metadata (setup.py): started\n",
      "  Preparing metadata (setup.py): finished with status 'done'\n",
      "Requirement already satisfied: soundfile>=0.12.1 in c:\\users\\avery\\.conda\\envs\\torch_env\\lib\\site-packages (from librosa) (0.12.1)\n",
      "Collecting librosa\n",
      "  Downloading librosa-0.10.0.post1-py3-none-any.whl (252 kB)\n",
      "     ------------------------------------- 253.0/253.0 kB 18.0 kB/s eta 0:00:00\n",
      "Collecting pooch>=1.0\n",
      "  Downloading pooch-1.7.0-py3-none-any.whl (60 kB)\n",
      "     --------------------------------------- 60.9/60.9 kB 33.1 kB/s eta 0:00:00\n",
      "Collecting librosa\n",
      "  Downloading librosa-0.10.0-py3-none-any.whl (252 kB)\n",
      "     ------------------------------------- 252.9/252.9 kB 17.9 kB/s eta 0:00:00\n",
      "  Downloading librosa-0.9.2-py3-none-any.whl (214 kB)\n",
      "     ------------------------------------- 214.3/214.3 kB 25.5 kB/s eta 0:00:00\n",
      "Collecting resampy>=0.2.2\n",
      "  Downloading resampy-0.4.2-py3-none-any.whl (3.1 MB)\n",
      "     ---------------------------------------- 3.1/3.1 MB 30.6 kB/s eta 0:00:00\n",
      "Requirement already satisfied: packaging>=20.0 in c:\\users\\avery\\.conda\\envs\\torch_env\\lib\\site-packages (from librosa) (23.1)\n",
      "Requirement already satisfied: scipy>=1.2.0 in c:\\users\\avery\\.conda\\envs\\torch_env\\lib\\site-packages (from librosa) (1.10.1)\n",
      "Requirement already satisfied: llvmlite<0.41,>=0.40.0dev0 in c:\\users\\avery\\.conda\\envs\\torch_env\\lib\\site-packages (from numba>=0.51.0->librosa) (0.40.0)\n",
      "Requirement already satisfied: platformdirs>=2.5.0 in c:\\users\\avery\\.conda\\envs\\torch_env\\lib\\site-packages (from pooch>=1.0->librosa) (3.5.0)\n",
      "Requirement already satisfied: requests>=2.19.0 in c:\\users\\avery\\.conda\\envs\\torch_env\\lib\\site-packages (from pooch>=1.0->librosa) (2.29.0)\n",
      "Requirement already satisfied: threadpoolctl>=2.0.0 in c:\\users\\avery\\.conda\\envs\\torch_env\\lib\\site-packages (from scikit-learn>=0.20.0->librosa) (3.1.0)\n",
      "Requirement already satisfied: cffi>=1.0 in c:\\users\\avery\\.conda\\envs\\torch_env\\lib\\site-packages (from soundfile>=0.12.1->librosa) (1.15.1)\n",
      "Requirement already satisfied: pycparser in c:\\users\\avery\\.conda\\envs\\torch_env\\lib\\site-packages (from cffi>=1.0->soundfile>=0.12.1->librosa) (2.21)\n",
      "Requirement already satisfied: certifi>=2017.4.17 in c:\\users\\avery\\.conda\\envs\\torch_env\\lib\\site-packages (from requests>=2.19.0->pooch>=1.0->librosa) (2023.5.7)\n",
      "Requirement already satisfied: urllib3<1.27,>=1.21.1 in c:\\users\\avery\\.conda\\envs\\torch_env\\lib\\site-packages (from requests>=2.19.0->pooch>=1.0->librosa) (1.26.15)\n",
      "Requirement already satisfied: idna<4,>=2.5 in c:\\users\\avery\\.conda\\envs\\torch_env\\lib\\site-packages (from requests>=2.19.0->pooch>=1.0->librosa) (3.4)\n",
      "Requirement already satisfied: charset-normalizer<4,>=2 in c:\\users\\avery\\.conda\\envs\\torch_env\\lib\\site-packages (from requests>=2.19.0->pooch>=1.0->librosa) (2.0.4)\n",
      "Building wheels for collected packages: audioread\n",
      "  Building wheel for audioread (setup.py): started\n",
      "  Building wheel for audioread (setup.py): finished with status 'done'\n",
      "  Created wheel for audioread: filename=audioread-3.0.0-py3-none-any.whl size=23736 sha256=d2ab04bb2ec3635213f95e596b66eb8e0f112b18d2a15e6328819500bf379efa\n",
      "  Stored in directory: c:\\users\\avery\\appdata\\local\\pip\\cache\\wheels\\e4\\76\\a4\\cfb55573167a1f5bde7d7a348e95e509c64b2c3e8f921932c3\n",
      "Successfully built audioread\n",
      "Installing collected packages: audioread, resampy, pooch, librosa\n",
      "Successfully installed audioread-3.0.0 librosa-0.9.2 pooch-1.7.0 resampy-0.4.2\n",
      "Collecting pretty-midi\n",
      "  Downloading pretty_midi-0.2.10.tar.gz (5.6 MB)\n",
      "     ---------------------------------------- 5.6/5.6 MB 16.3 kB/s eta 0:00:00\n",
      "  Preparing metadata (setup.py): started\n",
      "  Preparing metadata (setup.py): finished with status 'done'\n",
      "Requirement already satisfied: numpy>=1.7.0 in c:\\users\\avery\\.conda\\envs\\torch_env\\lib\\site-packages (from pretty-midi) (1.23.5)\n",
      "Requirement already satisfied: mido>=1.1.16 in c:\\users\\avery\\.conda\\envs\\torch_env\\lib\\site-packages (from pretty-midi) (1.2.10)\n",
      "Requirement already satisfied: six in c:\\users\\avery\\.conda\\envs\\torch_env\\lib\\site-packages (from pretty-midi) (1.16.0)\n",
      "Building wheels for collected packages: pretty-midi\n",
      "  Building wheel for pretty-midi (setup.py): started\n",
      "  Building wheel for pretty-midi (setup.py): finished with status 'done'\n",
      "  Created wheel for pretty-midi: filename=pretty_midi-0.2.10-py3-none-any.whl size=5592299 sha256=c30f4953218030c580dc857565b46037584ee27e3c7be18353d7755eb1c9a9b4\n",
      "  Stored in directory: c:\\users\\avery\\appdata\\local\\pip\\cache\\wheels\\75\\ec\\20\\b8e937a5bcf1de547ea5ce465db7de7f6761e15e6f0a01e25f\n",
      "Successfully built pretty-midi\n",
      "Installing collected packages: pretty-midi\n",
      "Successfully installed pretty-midi-0.2.10\n",
      "Looking in indexes: https://download.pytorch.org/whl/cu117\n",
      "Requirement already satisfied: torch in c:\\users\\avery\\.conda\\envs\\torch_env\\lib\\site-packages (2.0.0)\n",
      "Requirement already satisfied: torchvision in c:\\users\\avery\\.conda\\envs\\torch_env\\lib\\site-packages (0.15.0)\n",
      "Requirement already satisfied: torchaudio in c:\\users\\avery\\.conda\\envs\\torch_env\\lib\\site-packages (2.0.0)\n",
      "Requirement already satisfied: filelock in c:\\users\\avery\\.conda\\envs\\torch_env\\lib\\site-packages (from torch) (3.12.0)\n",
      "Requirement already satisfied: typing-extensions in c:\\users\\avery\\.conda\\envs\\torch_env\\lib\\site-packages (from torch) (4.4.0)\n",
      "Requirement already satisfied: sympy in c:\\users\\avery\\.conda\\envs\\torch_env\\lib\\site-packages (from torch) (1.11.1)\n",
      "Requirement already satisfied: networkx in c:\\users\\avery\\.conda\\envs\\torch_env\\lib\\site-packages (from torch) (2.8.4)\n",
      "Requirement already satisfied: jinja2 in c:\\users\\avery\\.conda\\envs\\torch_env\\lib\\site-packages (from torch) (3.1.2)\n",
      "Requirement already satisfied: numpy in c:\\users\\avery\\.conda\\envs\\torch_env\\lib\\site-packages (from torchvision) (1.23.5)\n",
      "Requirement already satisfied: requests in c:\\users\\avery\\.conda\\envs\\torch_env\\lib\\site-packages (from torchvision) (2.29.0)\n",
      "Requirement already satisfied: pillow!=8.3.*,>=5.3.0 in c:\\users\\avery\\.conda\\envs\\torch_env\\lib\\site-packages (from torchvision) (9.4.0)\n",
      "Requirement already satisfied: MarkupSafe>=2.0 in c:\\users\\avery\\.conda\\envs\\torch_env\\lib\\site-packages (from jinja2->torch) (2.1.1)\n",
      "Requirement already satisfied: certifi>=2017.4.17 in c:\\users\\avery\\.conda\\envs\\torch_env\\lib\\site-packages (from requests->torchvision) (2023.5.7)\n",
      "Requirement already satisfied: urllib3<1.27,>=1.21.1 in c:\\users\\avery\\.conda\\envs\\torch_env\\lib\\site-packages (from requests->torchvision) (1.26.15)\n",
      "Requirement already satisfied: idna<4,>=2.5 in c:\\users\\avery\\.conda\\envs\\torch_env\\lib\\site-packages (from requests->torchvision) (3.4)\n",
      "Requirement already satisfied: charset-normalizer<4,>=2 in c:\\users\\avery\\.conda\\envs\\torch_env\\lib\\site-packages (from requests->torchvision) (2.0.4)\n",
      "Requirement already satisfied: mpmath>=0.19 in c:\\users\\avery\\.conda\\envs\\torch_env\\lib\\site-packages (from sympy->torch) (1.2.1)\n"
     ]
    }
   ],
   "source": [
    "!pip install transformers\n",
    "!pip install miditok\n",
    "!pip install librosa\n",
    "!pip install pretty-midi\n",
    "!pip3 install torch torchvision torchaudio --index-url https://download.pytorch.org/whl/cu117 --user"
   ]
  },
  {
   "cell_type": "code",
   "execution_count": null,
   "metadata": {},
   "outputs": [],
   "source": [
    "import os\n",
    "os.system('shutdown -s -t 0')"
   ]
  },
  {
   "cell_type": "code",
   "execution_count": 3,
   "metadata": {},
   "outputs": [
    {
     "name": "stdout",
     "output_type": "stream",
     "text": [
      "-----------Start loading file------------\n"
     ]
    },
    {
     "ename": "FileNotFoundError",
     "evalue": "[WinError 3] The system cannot find the path specified: '../../dataset/SMD/'",
     "output_type": "error",
     "traceback": [
      "\u001b[1;31m---------------------------------------------------------------------------\u001b[0m",
      "\u001b[1;31mFileNotFoundError\u001b[0m                         Traceback (most recent call last)",
      "Cell \u001b[1;32mIn[3], line 4\u001b[0m\n\u001b[0;32m      1\u001b[0m \u001b[39mimport\u001b[39;00m \u001b[39mlibrosa\u001b[39;00m\n\u001b[0;32m      2\u001b[0m \u001b[39mfrom\u001b[39;00m \u001b[39mdata\u001b[39;00m \u001b[39mimport\u001b[39;00m SMDDataset\n\u001b[1;32m----> 4\u001b[0m datasmd \u001b[39m=\u001b[39m SMDDataset(data_dir\u001b[39m=\u001b[39;49m\u001b[39m'\u001b[39;49m\u001b[39m../../dataset/SMD/\u001b[39;49m\u001b[39m'\u001b[39;49m)\n",
      "File \u001b[1;32me:\\gdrive\\NYU Files\\Research\\Perf-Transfer\\Phase2\\audioToVelocity\\data.py:42\u001b[0m, in \u001b[0;36mSMDDataset.__init__\u001b[1;34m(self, data_dir, sr)\u001b[0m\n\u001b[0;32m     40\u001b[0m \u001b[39mself\u001b[39m\u001b[39m.\u001b[39msr \u001b[39m=\u001b[39m sr\n\u001b[0;32m     41\u001b[0m \u001b[39mself\u001b[39m\u001b[39m.\u001b[39maudios, \u001b[39mself\u001b[39m\u001b[39m.\u001b[39mmidis, \u001b[39mself\u001b[39m\u001b[39m.\u001b[39mlabels \u001b[39m=\u001b[39m [], [], []\n\u001b[1;32m---> 42\u001b[0m \u001b[39mself\u001b[39;49m\u001b[39m.\u001b[39;49mloadData()\n",
      "File \u001b[1;32me:\\gdrive\\NYU Files\\Research\\Perf-Transfer\\Phase2\\audioToVelocity\\data.py:60\u001b[0m, in \u001b[0;36mSMDDataset.loadData\u001b[1;34m(self)\u001b[0m\n\u001b[0;32m     56\u001b[0m \u001b[39mdef\u001b[39;00m \u001b[39mloadData\u001b[39m(\u001b[39mself\u001b[39m):\n\u001b[0;32m     58\u001b[0m     \u001b[39mprint\u001b[39m(\u001b[39m\"\u001b[39m\u001b[39m-----------Start loading file------------\u001b[39m\u001b[39m\"\u001b[39m)\n\u001b[1;32m---> 60\u001b[0m     files \u001b[39m=\u001b[39m os\u001b[39m.\u001b[39;49mlistdir(\u001b[39mself\u001b[39;49m\u001b[39m.\u001b[39;49mdata_dir)\n\u001b[0;32m     62\u001b[0m     \u001b[39mfor\u001b[39;00m i, file \u001b[39min\u001b[39;00m \u001b[39menumerate\u001b[39m(files):\n\u001b[0;32m     63\u001b[0m         filename, typ \u001b[39m=\u001b[39m file\u001b[39m.\u001b[39msplit(\u001b[39m'\u001b[39m\u001b[39m.\u001b[39m\u001b[39m'\u001b[39m)\n",
      "\u001b[1;31mFileNotFoundError\u001b[0m: [WinError 3] The system cannot find the path specified: '../../dataset/SMD/'"
     ]
    }
   ],
   "source": [
    "import librosa\n",
    "from data import SMDDataset\n",
    "\n",
    "datasmd = SMDDataset(data_dir='../../dataset/SMD/')"
   ]
  },
  {
   "cell_type": "code",
   "execution_count": 94,
   "metadata": {},
   "outputs": [
    {
     "name": "stdout",
     "output_type": "stream",
     "text": [
      "CNN(\n",
      "  (conv1): Conv2d(1, 6, kernel_size=(3, 3), stride=(1, 1), padding=(1, 1))\n",
      "  (conv2): Conv2d(6, 16, kernel_size=(3, 3), stride=(1, 1), padding=(1, 1))\n",
      "  (conv3): Conv2d(16, 32, kernel_size=(3, 3), stride=(1, 1), padding=(1, 1))\n",
      "  (pool): MaxPool2d(kernel_size=2, stride=(2, 4), padding=0, dilation=1, ceil_mode=False)\n",
      "  (fc1): Linear(in_features=434176, out_features=512, bias=True)\n",
      "  (fc2): Linear(in_features=512, out_features=256, bias=True)\n",
      "  (fc3): Linear(in_features=256, out_features=100, bias=True)\n",
      "  (fc4): Linear(in_features=100, out_features=32, bias=True)\n",
      ")\n"
     ]
    }
   ],
   "source": [
    "import torch\n",
    "import torch.nn.functional as F\n",
    "from torch import nn\n",
    "\n",
    "class CNN(nn.Module):\n",
    "    def __init__(self):\n",
    "        super(CNN, self).__init__()\n",
    "        self.conv1 = nn.Conv2d(1, 6, 3, padding=1)\n",
    "        self.conv2 = nn.Conv2d(6, 16, 3, padding=1)\n",
    "        self.conv3 = nn.Conv2d(16, 32, 3, padding=1)\n",
    "        \n",
    "        self.pool = nn.MaxPool2d(2, (2, 4))\n",
    "        \n",
    "        self.fc1 = nn.Linear(32 * 128 * 106, 512)\n",
    "        self.fc2 = nn.Linear(512, 256)\n",
    "        self.fc3 = nn.Linear(256, 100)\n",
    "        self.fc4 = nn.Linear(100, 32)\n",
    "\n",
    "    def forward(self, x):\n",
    "        print(x.shape)\n",
    "        x = self.pool(F.relu(self.conv1(x)))\n",
    "        print(x.shape)\n",
    "        x = self.pool(F.relu(self.conv2(x)))\n",
    "        print(x.shape)\n",
    "        x = self.pool(F.relu(self.conv3(x)))\n",
    "        print(x.shape)\n",
    "        \n",
    "        x = x.view(-1, 32 * 128 * 106)\n",
    "        \n",
    "        x = F.relu(self.fc1(x))\n",
    "        print(x.shape)\n",
    "\n",
    "        return x\n",
    "\n",
    "net = CNN()\n",
    "print(net)\n"
   ]
  },
  {
   "cell_type": "code",
   "execution_count": 95,
   "metadata": {},
   "outputs": [
    {
     "name": "stdout",
     "output_type": "stream",
     "text": [
      "torch.Size([1, 1025, 6762])\n",
      "torch.Size([6, 512, 1691])\n",
      "torch.Size([16, 256, 423])\n",
      "torch.Size([32, 128, 106])\n",
      "torch.Size([1, 512])\n",
      "torch.Size([1, 256])\n",
      "torch.Size([1, 100])\n",
      "torch.Size([1, 32])\n"
     ]
    },
    {
     "name": "stderr",
     "output_type": "stream",
     "text": [
      "C:\\Users\\QU YANG\\AppData\\Local\\Temp\\ipykernel_58504\\1815769412.py:3: UserWarning: To copy construct from a tensor, it is recommended to use sourceTensor.clone().detach() or sourceTensor.clone().detach().requires_grad_(True), rather than torch.tensor(sourceTensor).\n",
      "  net(torch.tensor(audio))\n"
     ]
    }
   ],
   "source": [
    "for audio, label in datasmd:\n",
    "    audio = audio[None, :, :]\n",
    "    net(torch.tensor(audio))\n",
    "    break"
   ]
  }
 ],
 "metadata": {
  "kernelspec": {
   "display_name": "base",
   "language": "python",
   "name": "python3"
  },
  "language_info": {
   "codemirror_mode": {
    "name": "ipython",
    "version": 3
   },
   "file_extension": ".py",
   "mimetype": "text/x-python",
   "name": "python",
   "nbconvert_exporter": "python",
   "pygments_lexer": "ipython3",
   "version": "3.9.16"
  },
  "orig_nbformat": 4
 },
 "nbformat": 4,
 "nbformat_minor": 2
}
